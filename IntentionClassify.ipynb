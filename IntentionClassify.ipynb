{
 "cells": [
  {
   "cell_type": "markdown",
   "metadata": {},
   "source": [
    "论文中使用这个方法的步骤大致如下：\n",
    "1. 清理评论数据，找出10万条评论数据，然后一一进行标注分类。\n",
    "2. 分类包括：1.想去，2.不想去，3.不明确，4.无关\n",
    "3. 用BERT进行训练。\n",
    "4. 训练模型的过程要在论文中进行描述，包括：使用了什么算法、采用了多少数据，最后给出关于这4个类型的混淆矩阵的对比图，以及训练过程中loss的变化图。\n",
    "5. 后续用这个模型来预测其他的所有的旅游意愿。"
   ]
  },
  {
   "cell_type": "markdown",
   "metadata": {},
   "source": [
    "# 使用预训练的BERT完成分类任务\n",
    "- 参考：https://www.bilibili.com/video/BV1KT421S7K4/?spm_id_from=333.337.search-card.all.click&vd_source=2b245db5a324284a2f8c5e57c3fea278\n",
    "- 这里使用了18万条中文新闻标题数据和对应的类别标签。\n",
    "- 采用google-bert/bert-base-chinese预训练模型。\n"
   ]
  },
  {
   "cell_type": "code",
   "execution_count": null,
   "metadata": {},
   "outputs": [],
   "source": [
    "# 安装依赖\n",
    "# %pip install transformers\n",
    "%pip install torch"
   ]
  },
  {
   "cell_type": "code",
   "execution_count": null,
   "metadata": {},
   "outputs": [],
   "source": [
    "import os\n",
    "import torch\n",
    "os.environ['HF_ENDPOINT'] = 'https://hf-mirror.com'\n",
    "from transformers import BertTokenizer\n",
    "from transformers import BertModel\n",
    "\n",
    "# 加载预训练模型\n",
    "tokenizer = BertTokenizer.from_pretrained('bert-base-chinese')\n",
    "# 打印分词器最大支持的长度，结果是512，也即中文的长度不能超过512\n",
    "print(f\"Maximum length of the sentence: {tokenizer.model_max_length}\")\n",
    "# 定义待处理的文笔\n",
    "texts=[\"你好，世界\",\"我喜欢编程。\",\"这是一个测试句子。\"]\n",
    "\n",
    "# 计算分词结果\n",
    "# 关于Tokenizer的详细用法，参考huggingface官网\n",
    "tokens=tokenizer(texts,add_special_tokens=True,#显示的添加特殊令牌\n",
    "                 padding=True,# 对于未达到最大长度的句子，进行填充\n",
    "                 max_length=128,# 最大长度为128\n",
    "                 truncation=True,# 对于超过最大长度的句子，进行截断\n",
    "                 return_tensors=\"pt\")# 返回pytorch的tensor格式\n",
    "     \n",
    "# 将结果中的input_ids和attention_mask取出来\n",
    "input_ids=tokens[\"input_ids\"]\n",
    "print(f\"Shape of Input IDs: {input_ids.shape}\")\n",
    "attention_mask=tokens[\"attention_mask\"]\n",
    "print(f\" Input IDs: {input_ids}\")\n",
    "\n",
    "print(f\"Attention Mask: {attention_mask}\")\n",
    "# 打印分词结果的长度，结果是128，也即中文的长度不能超过128\n",
    "print(f\"Length of the input IDs: {len(input_ids[0])}\")\n",
    "\n",
    "# 加载预训练模型\n",
    "model = BertModel.from_pretrained('bert-base-chinese')\n",
    "features = model(input_ids=input_ids,attention_mask=attention_mask)\n",
    "# 使用features.pooler_output作为后续句子线性分类器的特征向量\n",
    "pooler_output = features.pooler_output\n",
    "\n",
    "print(f\"Shape of the Pooler Output: {pooler_output.shape}\")\n",
    "print(f\"Pooler Output: {pooler_output}\") \n"
   ]
  },
  {
   "cell_type": "markdown",
   "metadata": {},
   "source": [
    "Bert实现中文分类：\n",
    "1. BERT分类模型的设计\n",
    "2. 中文新闻数据的准备和处理\n",
    "3. BERT分类模型的训练和评估"
   ]
  },
  {
   "cell_type": "code",
   "execution_count": null,
   "metadata": {},
   "outputs": [],
   "source": [
    "\n",
    "from torch import nn\n",
    "from transformers import BertModel\n",
    "# BERT分类模型的类,用于封装BERT模型和线性层\n",
    "class BertClassifier(nn.Module):\n",
    "    # 传入预训练的模型路径和分类的类别数量\n",
    "    def __init__(self, model_path, class_num):\n",
    "        super(BertClassifier, self).__init__()\n",
    "        # 加载预训练的BERT模型\n",
    "        self.bert = BertModel.from_pretrained(model_path)\n",
    "        # 定义一个线性层，将BERT模型的输出映射到分类的类别数量\n",
    "        self.classifier=nn.Linear(self.bert.config.hidden_size, class_num)\n",
    "    # 模型的前向传播\n",
    "    def forward(self, input_ids, attention_mask):\n",
    "        # 传入输入的ids和attention_mask，得到BERT模型的输出\n",
    "        features = self.bert(input_ids=input_ids, attention_mask=attention_mask)\n",
    "        # 取出线性层结果\n",
    "        logits = self.classifier(features.pooler_output)\n",
    "        return logits\n",
    "# 打印模型分类器可以看到相关输出    \n",
    "# classifier=BertClassifier('bert-base-chinese',10)\n",
    "# print(classifier)"
   ]
  },
  {
   "cell_type": "markdown",
   "metadata": {},
   "source": [
    "从Kaggle下载中文新闻分类数据\n",
    "https://www.kaggle.com/datasets/explorer1024/bert-dataset\n"
   ]
  }
 ],
 "metadata": {
  "kernelspec": {
   "display_name": ".venv",
   "language": "python",
   "name": "python3"
  },
  "language_info": {
   "codemirror_mode": {
    "name": "ipython",
    "version": 3
   },
   "file_extension": ".py",
   "mimetype": "text/x-python",
   "name": "python",
   "nbconvert_exporter": "python",
   "pygments_lexer": "ipython3",
   "version": "3.11.9"
  }
 },
 "nbformat": 4,
 "nbformat_minor": 2
}
